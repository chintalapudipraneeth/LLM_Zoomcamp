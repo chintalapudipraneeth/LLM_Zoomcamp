{
 "cells": [
  {
   "cell_type": "code",
   "execution_count": 2,
   "metadata": {},
   "outputs": [
    {
     "ename": "FileNotFoundError",
     "evalue": "[Errno 2] No such file or directory: './dataset/qa.jsonl'",
     "output_type": "error",
     "traceback": [
      "\u001b[1;31m---------------------------------------------------------------------------\u001b[0m",
      "\u001b[1;31mFileNotFoundError\u001b[0m                         Traceback (most recent call last)",
      "Cell \u001b[1;32mIn[2], line 16\u001b[0m\n\u001b[0;32m      9\u001b[0m         allData\u001b[38;5;241m.\u001b[39mappend({\n\u001b[0;32m     10\u001b[0m             \u001b[38;5;66;03m# \"question\": data['question'],\u001b[39;00m\n\u001b[0;32m     11\u001b[0m             \u001b[38;5;124m\"\u001b[39m\u001b[38;5;124mtext\u001b[39m\u001b[38;5;124m\"\u001b[39m: data[\u001b[38;5;124m'\u001b[39m\u001b[38;5;124manswer\u001b[39m\u001b[38;5;124m'\u001b[39m]\n\u001b[0;32m     12\u001b[0m         })\n\u001b[0;32m     14\u001b[0m     \u001b[38;5;28;01mreturn\u001b[39;00m allData\n\u001b[1;32m---> 16\u001b[0m \u001b[43mgetJsonData\u001b[49m\u001b[43m(\u001b[49m\u001b[38;5;124;43m\"\u001b[39;49m\u001b[38;5;124;43m./dataset/qa.jsonl\u001b[39;49m\u001b[38;5;124;43m\"\u001b[39;49m\u001b[43m)\u001b[49m\n",
      "Cell \u001b[1;32mIn[2], line 6\u001b[0m, in \u001b[0;36mgetJsonData\u001b[1;34m(filepath)\u001b[0m\n\u001b[0;32m      3\u001b[0m \u001b[38;5;28;01mdef\u001b[39;00m \u001b[38;5;21mgetJsonData\u001b[39m(filepath):\n\u001b[0;32m      5\u001b[0m     allData \u001b[38;5;241m=\u001b[39m []\n\u001b[1;32m----> 6\u001b[0m     legalData \u001b[38;5;241m=\u001b[39m \u001b[43morjsonl\u001b[49m\u001b[38;5;241;43m.\u001b[39;49m\u001b[43mload\u001b[49m\u001b[43m(\u001b[49m\u001b[43mfilepath\u001b[49m\u001b[43m)\u001b[49m\n\u001b[0;32m      8\u001b[0m     \u001b[38;5;28;01mfor\u001b[39;00m data \u001b[38;5;129;01min\u001b[39;00m legalData:\n\u001b[0;32m      9\u001b[0m         allData\u001b[38;5;241m.\u001b[39mappend({\n\u001b[0;32m     10\u001b[0m             \u001b[38;5;66;03m# \"question\": data['question'],\u001b[39;00m\n\u001b[0;32m     11\u001b[0m             \u001b[38;5;124m\"\u001b[39m\u001b[38;5;124mtext\u001b[39m\u001b[38;5;124m\"\u001b[39m: data[\u001b[38;5;124m'\u001b[39m\u001b[38;5;124manswer\u001b[39m\u001b[38;5;124m'\u001b[39m]\n\u001b[0;32m     12\u001b[0m         })\n",
      "File \u001b[1;32m~\\AppData\\Local\\Programs\\Python\\Python38\\lib\\site-packages\\orjsonl\\orjsonl.py:30\u001b[0m, in \u001b[0;36mload\u001b[1;34m(path, decompression_threads, compression_format)\u001b[0m\n\u001b[0;32m     <a href='file:///c%3A/Users/Lenovo/AppData/Local/Programs/Python/Python38/lib/site-packages/orjsonl/orjsonl.py?line=14'>15</a>\u001b[0m \u001b[39mdef\u001b[39;00m \u001b[39mload\u001b[39m(\n\u001b[0;32m     <a href='file:///c%3A/Users/Lenovo/AppData/Local/Programs/Python/Python38/lib/site-packages/orjsonl/orjsonl.py?line=15'>16</a>\u001b[0m     path: Union[\u001b[39mstr\u001b[39m, \u001b[39mbytes\u001b[39m, os\u001b[39m.\u001b[39mPathLike],\n\u001b[0;32m     <a href='file:///c%3A/Users/Lenovo/AppData/Local/Programs/Python/Python38/lib/site-packages/orjsonl/orjsonl.py?line=16'>17</a>\u001b[0m     decompression_threads: Optional[\u001b[39mint\u001b[39m] \u001b[39m=\u001b[39m \u001b[39mNone\u001b[39;00m,\n\u001b[0;32m     <a href='file:///c%3A/Users/Lenovo/AppData/Local/Programs/Python/Python38/lib/site-packages/orjsonl/orjsonl.py?line=17'>18</a>\u001b[0m     compression_format: Optional[\u001b[39mstr\u001b[39m] \u001b[39m=\u001b[39m \u001b[39mNone\u001b[39;00m\n\u001b[0;32m     <a href='file:///c%3A/Users/Lenovo/AppData/Local/Programs/Python/Python38/lib/site-packages/orjsonl/orjsonl.py?line=18'>19</a>\u001b[0m ) \u001b[39m-\u001b[39m\u001b[39m>\u001b[39m List[Union[\u001b[39mdict\u001b[39m, \u001b[39mlist\u001b[39m, \u001b[39mint\u001b[39m, \u001b[39mfloat\u001b[39m, \u001b[39mstr\u001b[39m, \u001b[39mbool\u001b[39m, \u001b[39mNone\u001b[39;00m]]:\n\u001b[0;32m     <a href='file:///c%3A/Users/Lenovo/AppData/Local/Programs/Python/Python38/lib/site-packages/orjsonl/orjsonl.py?line=19'>20</a>\u001b[0m \u001b[39m    \u001b[39m\u001b[39m\"\"\"Deserialize a compressed or uncompressed UTF-8-encoded jsonl file to a list of Python objects.\u001b[39;00m\n\u001b[0;32m     <a href='file:///c%3A/Users/Lenovo/AppData/Local/Programs/Python/Python38/lib/site-packages/orjsonl/orjsonl.py?line=20'>21</a>\u001b[0m \n\u001b[0;32m     <a href='file:///c%3A/Users/Lenovo/AppData/Local/Programs/Python/Python38/lib/site-packages/orjsonl/orjsonl.py?line=21'>22</a>\u001b[0m \u001b[39m    Args:\u001b[39;00m\n\u001b[1;32m   (...)\u001b[0m\n\u001b[0;32m     <a href='file:///c%3A/Users/Lenovo/AppData/Local/Programs/Python/Python38/lib/site-packages/orjsonl/orjsonl.py?line=26'>27</a>\u001b[0m \u001b[39m    Returns:\u001b[39;00m\n\u001b[0;32m     <a href='file:///c%3A/Users/Lenovo/AppData/Local/Programs/Python/Python38/lib/site-packages/orjsonl/orjsonl.py?line=27'>28</a>\u001b[0m \u001b[39m        list[dict | list | int | float | str | bool | None]: A list of deserialized objects.\"\"\"\u001b[39;00m\n\u001b[1;32m---> <a href='file:///c%3A/Users/Lenovo/AppData/Local/Programs/Python/Python38/lib/site-packages/orjsonl/orjsonl.py?line=29'>30</a>\u001b[0m     \u001b[39mwith\u001b[39;00m xopen(path, \u001b[39m'\u001b[39;49m\u001b[39mrb\u001b[39;49m\u001b[39m'\u001b[39;49m, threads\u001b[39m=\u001b[39;49mdecompression_threads, \u001b[39mformat\u001b[39;49m\u001b[39m=\u001b[39;49mcompression_format) \u001b[39mas\u001b[39;00m file:\n\u001b[0;32m     <a href='file:///c%3A/Users/Lenovo/AppData/Local/Programs/Python/Python38/lib/site-packages/orjsonl/orjsonl.py?line=30'>31</a>\u001b[0m         \u001b[39mreturn\u001b[39;00m [orjson\u001b[39m.\u001b[39mloads(json) \u001b[39mfor\u001b[39;00m json \u001b[39min\u001b[39;00m file]\n",
      "File \u001b[1;32m~\\AppData\\Local\\Programs\\Python\\Python38\\lib\\site-packages\\xopen\\__init__.py:854\u001b[0m, in \u001b[0;36mxopen\u001b[1;34m(filename, mode, compresslevel, threads, encoding, errors, newline, format)\u001b[0m\n\u001b[0;32m    <a href='file:///c%3A/Users/Lenovo/AppData/Local/Programs/Python/Python38/lib/site-packages/xopen/__init__.py?line=851'>852</a>\u001b[0m detected_format \u001b[39m=\u001b[39m \u001b[39mformat\u001b[39m \u001b[39mor\u001b[39;00m _detect_format_from_extension(filepath)\n\u001b[0;32m    <a href='file:///c%3A/Users/Lenovo/AppData/Local/Programs/Python/Python38/lib/site-packages/xopen/__init__.py?line=852'>853</a>\u001b[0m \u001b[39mif\u001b[39;00m detected_format \u001b[39mis\u001b[39;00m \u001b[39mNone\u001b[39;00m \u001b[39mand\u001b[39;00m \u001b[39m\"\u001b[39m\u001b[39mr\u001b[39m\u001b[39m\"\u001b[39m \u001b[39min\u001b[39;00m mode:\n\u001b[1;32m--> <a href='file:///c%3A/Users/Lenovo/AppData/Local/Programs/Python/Python38/lib/site-packages/xopen/__init__.py?line=853'>854</a>\u001b[0m     detected_format \u001b[39m=\u001b[39m _detect_format_from_content(filename)\n\u001b[0;32m    <a href='file:///c%3A/Users/Lenovo/AppData/Local/Programs/Python/Python38/lib/site-packages/xopen/__init__.py?line=855'>856</a>\u001b[0m \u001b[39mif\u001b[39;00m detected_format \u001b[39m==\u001b[39m \u001b[39m\"\u001b[39m\u001b[39mgz\u001b[39m\u001b[39m\"\u001b[39m:\n\u001b[0;32m    <a href='file:///c%3A/Users/Lenovo/AppData/Local/Programs/Python/Python38/lib/site-packages/xopen/__init__.py?line=856'>857</a>\u001b[0m     opened_file \u001b[39m=\u001b[39m _open_gz(filename, binary_mode, compresslevel, threads)\n",
      "File \u001b[1;32m~\\AppData\\Local\\Programs\\Python\\Python38\\lib\\site-packages\\xopen\\__init__.py:661\u001b[0m, in \u001b[0;36m_detect_format_from_content\u001b[1;34m(filename)\u001b[0m\n\u001b[0;32m    <a href='file:///c%3A/Users/Lenovo/AppData/Local/Programs/Python/Python38/lib/site-packages/xopen/__init__.py?line=655'>656</a>\u001b[0m \u001b[39mdef\u001b[39;00m \u001b[39m_detect_format_from_content\u001b[39m(filename: FileOrPath) \u001b[39m-\u001b[39m\u001b[39m>\u001b[39m Optional[\u001b[39mstr\u001b[39m]:\n\u001b[0;32m    <a href='file:///c%3A/Users/Lenovo/AppData/Local/Programs/Python/Python38/lib/site-packages/xopen/__init__.py?line=656'>657</a>\u001b[0m \u001b[39m    \u001b[39m\u001b[39m\"\"\"\u001b[39;00m\n\u001b[0;32m    <a href='file:///c%3A/Users/Lenovo/AppData/Local/Programs/Python/Python38/lib/site-packages/xopen/__init__.py?line=657'>658</a>\u001b[0m \u001b[39m    Attempts to detect file format from the content by reading the first\u001b[39;00m\n\u001b[0;32m    <a href='file:///c%3A/Users/Lenovo/AppData/Local/Programs/Python/Python38/lib/site-packages/xopen/__init__.py?line=658'>659</a>\u001b[0m \u001b[39m    6 bytes. Returns None if no format could be detected.\u001b[39;00m\n\u001b[0;32m    <a href='file:///c%3A/Users/Lenovo/AppData/Local/Programs/Python/Python38/lib/site-packages/xopen/__init__.py?line=659'>660</a>\u001b[0m \u001b[39m    \"\"\"\u001b[39;00m\n\u001b[1;32m--> <a href='file:///c%3A/Users/Lenovo/AppData/Local/Programs/Python/Python38/lib/site-packages/xopen/__init__.py?line=660'>661</a>\u001b[0m     fileobj, closefd \u001b[39m=\u001b[39m _file_or_path_to_binary_stream(filename, \u001b[39m\"\u001b[39;49m\u001b[39mrb\u001b[39;49m\u001b[39m\"\u001b[39;49m)\n\u001b[0;32m    <a href='file:///c%3A/Users/Lenovo/AppData/Local/Programs/Python/Python38/lib/site-packages/xopen/__init__.py?line=661'>662</a>\u001b[0m     \u001b[39mtry\u001b[39;00m:\n\u001b[0;32m    <a href='file:///c%3A/Users/Lenovo/AppData/Local/Programs/Python/Python38/lib/site-packages/xopen/__init__.py?line=662'>663</a>\u001b[0m         \u001b[39mif\u001b[39;00m \u001b[39mnot\u001b[39;00m fileobj\u001b[39m.\u001b[39mreadable():\n",
      "File \u001b[1;32m~\\AppData\\Local\\Programs\\Python\\Python38\\lib\\site-packages\\xopen\\__init__.py:712\u001b[0m, in \u001b[0;36m_file_or_path_to_binary_stream\u001b[1;34m(file_or_path, binary_mode)\u001b[0m\n\u001b[0;32m    <a href='file:///c%3A/Users/Lenovo/AppData/Local/Programs/Python/Python38/lib/site-packages/xopen/__init__.py?line=709'>710</a>\u001b[0m \u001b[39massert\u001b[39;00m binary_mode \u001b[39min\u001b[39;00m (\u001b[39m\"\u001b[39m\u001b[39mrb\u001b[39m\u001b[39m\"\u001b[39m, \u001b[39m\"\u001b[39m\u001b[39mwb\u001b[39m\u001b[39m\"\u001b[39m, \u001b[39m\"\u001b[39m\u001b[39mab\u001b[39m\u001b[39m\"\u001b[39m)\n\u001b[0;32m    <a href='file:///c%3A/Users/Lenovo/AppData/Local/Programs/Python/Python38/lib/site-packages/xopen/__init__.py?line=710'>711</a>\u001b[0m \u001b[39mif\u001b[39;00m \u001b[39misinstance\u001b[39m(file_or_path, (\u001b[39mstr\u001b[39m, \u001b[39mbytes\u001b[39m)) \u001b[39mor\u001b[39;00m \u001b[39mhasattr\u001b[39m(file_or_path, \u001b[39m\"\u001b[39m\u001b[39m__fspath__\u001b[39m\u001b[39m\"\u001b[39m):\n\u001b[1;32m--> <a href='file:///c%3A/Users/Lenovo/AppData/Local/Programs/Python/Python38/lib/site-packages/xopen/__init__.py?line=711'>712</a>\u001b[0m     \u001b[39mreturn\u001b[39;00m \u001b[39mopen\u001b[39;49m(os\u001b[39m.\u001b[39;49mfspath(file_or_path), binary_mode), \u001b[39mTrue\u001b[39;00m  \u001b[39m# type: ignore\u001b[39;00m\n\u001b[0;32m    <a href='file:///c%3A/Users/Lenovo/AppData/Local/Programs/Python/Python38/lib/site-packages/xopen/__init__.py?line=712'>713</a>\u001b[0m \u001b[39mif\u001b[39;00m \u001b[39misinstance\u001b[39m(file_or_path, io\u001b[39m.\u001b[39mTextIOWrapper):\n\u001b[0;32m    <a href='file:///c%3A/Users/Lenovo/AppData/Local/Programs/Python/Python38/lib/site-packages/xopen/__init__.py?line=713'>714</a>\u001b[0m     \u001b[39mreturn\u001b[39;00m file_or_path\u001b[39m.\u001b[39mbuffer, \u001b[39mFalse\u001b[39;00m\n",
      "\u001b[1;31mFileNotFoundError\u001b[0m: [Errno 2] No such file or directory: './dataset/qa.jsonl'"
     ]
    }
   ],
   "source": [
    "import orjsonl\n",
    "\n",
    "def getJsonData(filepath):\n",
    "    \n",
    "    allData = []\n",
    "    legalData = orjsonl.load(filepath)\n",
    "\n",
    "    for data in legalData:\n",
    "        allData.append({\n",
    "            # \"question\": data['question'],\n",
    "            \"text\": data['answer']\n",
    "        })\n",
    "\n",
    "    return allData\n",
    "\n",
    "getJsonData(\"../dataset/qa.jsonl\")"
   ]
  },
  {
   "cell_type": "code",
   "execution_count": 4,
   "metadata": {},
   "outputs": [
    {
     "data": {
      "text/plain": [
       "{'text': 'Ordinarily that discretion will be exercised so that costs follow the event and are awarded on a party and party basis. A departure from normal practice to award indemnity costs requires some special or unusual feature in the case: Alpine Hardwood (Aust) Pty Ltd v Hardys Pty Ltd (No 2) [2002] FCA 224 ; (2002) 190 ALR 121 at [11] (Weinberg J) citing Colgate Palmolive Co v Cussons Pty Ltd (1993) 46 FCR 225 at 233 (Sheppard J).'}"
      ]
     },
     "execution_count": 4,
     "metadata": {},
     "output_type": "execute_result"
    }
   ],
   "source": [
    "import pandas as pd\n",
    "def getCsvData(filepath):\n",
    "\n",
    "    allData = []\n",
    "    legalData = pd.read_csv(filepath)\n",
    "\n",
    "    for data in legalData['case_text'].values:\n",
    "        allData.append({\"text\": data})\n",
    "\n",
    "    return allData \n",
    "\n",
    "data = getCsvData(\"dataset/legal_text_classification.csv\")"
   ]
  },
  {
   "cell_type": "code",
   "execution_count": null,
   "metadata": {},
   "outputs": [],
   "source": [
    "allDocuments[0]"
   ]
  }
 ],
 "metadata": {
  "interpreter": {
   "hash": "9ce43836c8d3287a06e199a1efd6974587c1d8c7cdf961feda0708cd09e2869c"
  },
  "kernelspec": {
   "display_name": "Python 3.8.10 64-bit",
   "language": "python",
   "name": "python3"
  },
  "language_info": {
   "codemirror_mode": {
    "name": "ipython",
    "version": 3
   },
   "file_extension": ".py",
   "mimetype": "text/x-python",
   "name": "python",
   "nbconvert_exporter": "python",
   "pygments_lexer": "ipython3",
   "version": "3.8.10"
  },
  "orig_nbformat": 4
 },
 "nbformat": 4,
 "nbformat_minor": 2
}
