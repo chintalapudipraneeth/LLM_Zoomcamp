{
 "cells": [
  {
   "cell_type": "code",
   "execution_count": 1,
   "metadata": {},
   "outputs": [
    {
     "data": {
      "text/plain": [
       "{'question': \"In the case of Nasr v NRMA Insurance [2006] NSWSC 1018, why was the plaintiff's appeal lodged out of time?\",\n",
       " 'text': \"In Nasr v NRMA Insurance [2006] NSWSC 1018, the plaintiff's appeal was lodged out of time because the summons was filed on 8 June 2006, seven months after the decision of the Local Court was made on 4 October 2005. No explanation was provided for this delay.\",\n",
       " 'doc_id': '81ceb3c0'}"
      ]
     },
     "execution_count": 1,
     "metadata": {},
     "output_type": "execute_result"
    }
   ],
   "source": [
    "import json\n",
    "\n",
    "# Open the JSON file and load the data\n",
    "with open('allDocument.json', 'r') as file:\n",
    "    data = json.load(file)\n",
    "\n",
    "# Print the loaded data\n",
    "# print(len(data[0]))\n",
    "data[0]\n"
   ]
  },
  {
   "cell_type": "code",
   "execution_count": 2,
   "metadata": {},
   "outputs": [],
   "source": [
    "from collections import defaultdict"
   ]
  },
  {
   "cell_type": "code",
   "execution_count": 3,
   "metadata": {},
   "outputs": [],
   "source": [
    "hashes = defaultdict(list)\n",
    "\n",
    "for doc in data:\n",
    "    docId = doc['doc_id']\n",
    "    hashes[docId].append(doc)"
   ]
  },
  {
   "cell_type": "code",
   "execution_count": 4,
   "metadata": {},
   "outputs": [
    {
     "data": {
      "text/plain": [
       "[{'question': \"In the case of Nasr v NRMA Insurance [2006] NSWSC 1018, why was the plaintiff's appeal lodged out of time?\",\n",
       "  'text': \"In Nasr v NRMA Insurance [2006] NSWSC 1018, the plaintiff's appeal was lodged out of time because the summons was filed on 8 June 2006, seven months after the decision of the Local Court was made on 4 October 2005. No explanation was provided for this delay.\",\n",
       "  'doc_id': '81ceb3c0'}]"
      ]
     },
     "execution_count": 4,
     "metadata": {},
     "output_type": "execute_result"
    }
   ],
   "source": [
    "hashes['81ceb3c0']"
   ]
  },
  {
   "cell_type": "code",
   "execution_count": 5,
   "metadata": {},
   "outputs": [],
   "source": [
    "import ollama\n",
    "\n",
    "promptTemplate = \"\"\"\n",
    "    You emulate a user who will use the legal document assistant.\n",
    "    Formulate 3 questions this user might ask based on a legal documents record. The record\n",
    "    should contain the answer to the questions, and the questions should be complete and not too short.\n",
    "    If possible, use as fewer words as possible from the record. \n",
    "\n",
    "    The record:\n",
    "    question: {question}\n",
    "    text: {text}\n",
    "\n",
    "    Provide the output in array like this format below:\n",
    "\n",
    "    [\"question1\", \"question2\", ..., \"question5\"]\n",
    "    \"\"\".strip()\n",
    "\n",
    "def generate_questions(doc):\n",
    "    prompt = promptTemplate.format(**doc)\n",
    "\n",
    "    llm = ollama.chat(\n",
    "        model=\"llama2:7b\",\n",
    "        messages=[{\"role\": \"user\", \"content\":prompt}],\n",
    "        # stream=True\n",
    "    )\n",
    "\n",
    "    \n",
    "    return llm['message']['content']\n",
    "\n"
   ]
  },
  {
   "cell_type": "code",
   "execution_count": 6,
   "metadata": {},
   "outputs": [
    {
     "name": "stderr",
     "output_type": "stream",
     "text": [
      "C:\\Users\\Lenovo\\AppData\\Local\\Programs\\Python\\Python38\\lib\\site-packages\\tqdm\\auto.py:21: TqdmWarning: IProgress not found. Please update jupyter and ipywidgets. See https://ipywidgets.readthedocs.io/en/stable/user_install.html\n",
      "  from .autonotebook import tqdm as notebook_tqdm\n"
     ]
    }
   ],
   "source": [
    "from tqdm.auto import tqdm "
   ]
  },
  {
   "cell_type": "code",
   "execution_count": 7,
   "metadata": {},
   "outputs": [
    {
     "name": "stderr",
     "output_type": "stream",
     "text": [
      "100%|██████████| 50/50 [2:33:20<00:00, 184.02s/it]  \n"
     ]
    }
   ],
   "source": [
    "results = {}\n",
    "for doc in tqdm(data): \n",
    "    doc_id = doc['doc_id']\n",
    "    if doc_id in results:\n",
    "        continue\n",
    "\n",
    "    questions = generate_questions(doc)\n",
    "    results[doc_id] = questions\n",
    "    # print(questions)"
   ]
  },
  {
   "cell_type": "code",
   "execution_count": 8,
   "metadata": {},
   "outputs": [
    {
     "name": "stdout",
     "output_type": "stream",
     "text": [
      "\n",
      "Sure! Here are three questions that a user who has accessed the legal document assistant might ask based on the record provided:\n",
      "\n",
      "[\"Why did the plaintiff wait seven months to file an appeal?\", \"Was there a specific reason for the delay in filing the appeal?\", \"What were the consequences of filing the appeal out of time?\"]\n"
     ]
    }
   ],
   "source": [
    "print(results['81ceb3c0'])"
   ]
  },
  {
   "cell_type": "code",
   "execution_count": 9,
   "metadata": {},
   "outputs": [
    {
     "data": {
      "text/plain": [
       "{'81ceb3c0': '\\nSure! Here are three questions that a user who has accessed the legal document assistant might ask based on the record provided:\\n\\n[\"Why did the plaintiff wait seven months to file an appeal?\", \"Was there a specific reason for the delay in filing the appeal?\", \"What were the consequences of filing the appeal out of time?\"]',\n",
       " '87bce545': '\\nSure! Here are 3 questions that the user might ask based on the legal document record:\\n\\n[\"What was the Appellant\\'s relationship with Mr. Nguyen?\", \"What activities did the Appellant witness Mr. Nguyen engaging in at the flat?\", \"Why did the Appellant take no further action to prevent Mr. Nguyen from selling heroin despite her initial protests?\"]',\n",
       " '07111b79': '\\nSure! Here are three questions that the user might ask based on the legal document record:\\n\\n[\"What was the court\\'s reasoning for dismissing the motion to restrain Scenic Tours Pty Ltd from acting?\", \"Did the plaintiff have a choice in selecting their solicitor?\", \"Was the decision influenced by any previous agreements or relationships between the parties?\"]',\n",
       " '98bbc8b2': '\\nSure, here are three questions that a user might ask based on the provided legal document record:\\n\\n[\"What were the circumstances of the incident that led to the breach of safety?\", \"Were there any prior incidents or violations at the company that contributed to the serious breach?\", \"How did the company and the supervisor plead guilty and what factors influenced the penalties imposed by the court?\"]',\n",
       " '6a5e2ccc': '\\nSure! Here are 3 questions that a user who has access to the legal document assistant may ask based on the provided record:\\n\\n[\"What was the reasoning behind the Commonwealth\\'s argument that habeas corpus did not apply in this case?\", \"How did the court respond to the Commonwealth\\'s argument regarding the application of habeas corpus?\", \"Was there any precedent or legal principle cited in the decision that supported the court\\'s ruling on this matter?\"]',\n",
       " '736c9dd5': '\\nSure! Here are three questions that the user might ask based on the legal document record you provided:\\n\\n[\"When did the Poisons List Amendment Order 2012 come into effect in Tasmania?\", \"What date was the Poisons List Amendment Order 2012 made in Tasmania?\", \"How did the public find out about the Poisons List Amendment Order 2012 in Tasmania?\"]',\n",
       " '48094ee6': '\\nSure! Here are three questions that the user might ask based on the legal document record provided:\\n\\n[\"Who were the defendants in the case?\" , \"What was the outcome of the case?\" , \"Were there any specific laws or regulations involved in the case?\" ]',\n",
       " 'f99ff425': '\\nSure! Here are three questions that the user might ask based on the legal document record:\\n\\n[\"What specific modifications were made to clarify the termination of repetitive inspection for each cable in-line splice?\", \"Can you provide more details on the clarification provided in Note 1?\", \"How does this amendment affect the previous requirements for compliance statement?\"]',\n",
       " '46f58762': '\\n[\"What is the landlord\\'s general obligation under section 63 of the Act?\", \"How does this obligation apply to tenants who had notice of the state of disrepair before occupying the premises?\", \"Can the landlord avoid liability for breaching this obligation if the state of disrepair is caused by the tenant\\'s actions?\"]',\n",
       " 'a8ca3680': '\\nSure! Here are three questions that the user might ask based on the provided legal document record:\\n\\n[\"What were the two certifications contained in the Certificate in the case of Pauga v Samoa?\", \"What is the purpose of the first certification in the Certificate?\", \"What is the purpose of the second certification in the Certificate?\"]',\n",
       " '0e23a092': '\\nSure! Here are 3 questions that the user might ask based on the legal document record:\\n\\n[\"What is the Commonwealth Bank of Australia fixed deposit account?\", \"Who are the beneficiaries named in the will?\", \"How did the court determine the percentage to be distributed to each beneficiary?\"]',\n",
       " '6149a326': '\\nSure! Here are three questions that a user might ask based on the provided legal document record:\\n\\n[\"What is the definition of \\'serious issue to be tried\\' in the context of section 459H?\", \"Can you provide examples of cases where the court has applied the test for determining a \\'genuine\\' dispute or claim under section 459H?\", \"How does the interpretation of section 459H by Australian Commonwealth courts compare to the interpretations in other jurisdictions?\"]',\n",
       " 'a5241ad9': '\\nSure! Here are 3 questions that the user might ask based on the provided legal document record:\\n\\n[\"What were the specific charges against the applicant in the case of R v Perry?\", \"What was the basis for the charges under s196(b) and s195(b) of the Act?\", \"Were there any aggravating factors or mitigating circumstances in the case that might have impacted the sentence imposed on the applicant?\"]',\n",
       " '3e6d068b': '[\"question1\", \"How does the term \\'incite\\' in the Anti-Discrimination Act relate to the offence of serious racial vilification?\", \"question2\", \"What is the established interpretation of the term \\'incite\\' in relation to criminal offences relating to incitement?\", \"question3\", \"How does the context of the word \\'incite\\' in different provisions of the Act affect its interpretation?\", \"question4\", \"What weight is given to the presumption that the same word has the same meaning in each case?\", \"question5\", \"Can the interpretation of the term \\'incite\\' in one provision of the Act influence the interpretation of the term in other provisions?\"]',\n",
       " 'ba3985a4': '\\nHere are three questions that a user might ask based on the legal document record provided:\\n\\n[\"What was the reason for setting aside the judgment entered against Mr Colbron in the Local Court?\", \"Who was responsible for paying Mr Colbron\\'s costs of the appeal?\", \"Were there any specific costs orders made in relation to the appeal?\"]',\n",
       " '598bcae8': '\\nSure! Here are three questions that the user might ask based on the legal document record:\\n\\n[\"What is the scope of interests that can be subject to a restraining order under the Criminal Assets Recovery Act 1990 (NSW)?\", \"Can the New South Wales Crime Commission apply for a restraining order without the consent of the property owner?\", \"What is the role of the NSW Trustee and Guardian in implementing restraining orders related to property control?\"]',\n",
       " '186616f3': '\\nSure! Here are three questions that a user might ask based on the provided legal document record:\\n\\n[\"What is the BSWAT payment scheme?\", \"What is the commencement day mentioned in the record?\", \"How does the Secretary review the original determination under section 23 of the BSWAT Act?\"]',\n",
       " '1ab2eb44': '\\nSure! Here are three questions that the user might ask based on the provided legal document record:\\n\\n[\"Can the court order mediation in cases of family disputes?\", \"What is the criteria for the court to consider when deciding whether to order mediation?\", \"How does the court determine whether ordering a mediation would be a viable, possible, responsible, or a proper exercise of its discretion?\"]',\n",
       " '2fe6cea3': '\\nSure! Here are three questions that the user might ask based on the provided legal document record:\\n\\n[\"What was the basis of the applicant\\'s argument for review of the Refugee Review Tribunal\\'s decision?\", \"How did the Tribunal handle the inconsistency between the applicant\\'s statement and the evidence he gave before the Tribunal?\", \"Was there any other factor that contributed to the Tribunal\\'s decision to reject the application?\"]',\n",
       " '903a0013': '\\nSure! Here are three questions that a user who has accessed the legal document assistant may ask based on the provided record:\\n\\n[\"Did the court find any inconsistencies between the plaintiff\\'s initial descriptions and her sworn evidence?\", \"Was there any evidence presented to suggest that the defendant was driving recklessly or negligently at the time of the accident?\", \"How did the court determine whether the plaintiff had provided a complete and accurate account of the accident in her initial descriptions?]',\n",
       " '0eef9b93': '[\"What were the inconsistencies in the complainant\\'s account that the Court of Appeal considered?\", \"What was the significance of the physical evidence supporting parts of the complainant\\'s account?\", \"Why did the lack of challenge to the complainant\\'s account of the telephone call considerably weaken the proposition that the jury was deprived of the chance to consider the 2007 account in assessing the complainant\\'s evidence?\"]',\n",
       " '1e2ea5fe': '\\nSure! Here are three questions that a user might ask based on the legal document record you provided:\\n\\n[\"How is the term \\'decide\\' in s 88A(1) construed in the context of the decision in Amir v Director of Professional Services Review?\"],\\n[\"What constitutes an irrevocable commitment by the Director in the context of the decision?\", \"Who does the Director communicate her irrevocable commitment to, according to the record?\"],\\n[\"Can you provide more information on what happens before the Director makes up her mind, as mentioned in the record?\"]',\n",
       " '4aa6c173': '\\nSure! Here are three questions that the user might ask based on the legal document record:\\n\\n[\"What is the criteria for a person to be precluded from relief in cases of fraudulent misrepresentation?\",\"Can you provide examples of unfavourable rumours or suspicions that could lead to relief in such cases?\",\"How does the court\\'s stance on this matter impact the rights of shareholders in similar situations?\"]',\n",
       " '7ab56779': '\\nSure! Here are 3 questions that the user might ask based on the legal document record:\\n\\n[\"What were the specific cartel provisions that Alkaloids of Australia Pty Ltd pleaded guilty to?\", \"Did Alkaloids of Australia Pty Ltd admit to any additional offenses beyond the two pleaded guilty to in court?\", \"What is the significance of the corporate offender admitting seven additional offences in this case?\"]',\n",
       " 'a768273a': '[\"What actions were taken by the Council in response to the amendments?\", \"Did the Council\\'s policy require notification of the most recent amendments?\", \"Who did the Council instruct its solicitor to provide the amended plans to?\"]',\n",
       " '12c21844': '\\nSure! Here are three questions that the user might ask based on the legal document record:\\n\\n[\"What is the general rule for awarding costs in Australian courts?\", \"What is the basis for departing from this general rule and awarding indemnity costs?\", \"Can you provide an example of a case where the court departed from the normal practice of awarding costs on a party and party basis?\"]',\n",
       " '635ac0c8': '\\nHere are three questions that a user might ask based on the legal document record provided:\\n\\n[\"What is the general principle governing the exercise of discretion to award indemnity costs after rejection of a Calderbank letter?\", \"How does the reasonableness of the conduct of the offeree affect the outcome of a claim for indemnity costs?\", \"Can an order for indemnity costs be made if the refusal of a Calderbank offer is due to some circumstance other than that the offer happened to comply with the Calderbank principle?\"]',\n",
       " '3b8f402e': '\\nSure! Here are three questions that a user who has access to the legal document assistant might ask based on the provided record:\\n\\n[\"What is the general rule regarding cost awards in Australian courts?\", \"Can you provide examples of when costs may be awarded on an indemnity basis in Australia?\", \"How does the court\\'s discretion in awarding costs impact the outcome of a legal dispute?\"]',\n",
       " '8f7d91cf': 'Sure! Here are 3 questions this user might ask based on the legal document record:\\n\\n[\"Question 1\", \"Did the court provide any guidance on what constitutes an unreasonable refusal of a Calderbank offer?\", \"What circumstances does the court consider when determining whether the offeree\\'s conduct was reasonable?\", \"How does the court evaluate the reasonableness of the offeree\\'s conduct when viewing it in light of the circumstances that existed at the time of the offer\\'s rejection?\"]',\n",
       " '10eb0b0d': '\\nSure! Here are three questions that a user who has access to the legal document assistant might ask based on the record provided:\\n\\n[\"What is the general principle informing the exercise of the discretion in Dr Martens Australia Pty Ltd v Figgins Holdings Pty Ltd (No 2) [2000] FCA 602?\", \"Can you provide examples of how the discretion should not be fettered by transformation of approaches and practices developed through cases into quasi-statutory rules?\", \"How does the principle that \\'care must be taken not to circumscribe the discretion by reference to closed categories\\' relate to the exercise of the discretion in this case?\"]',\n",
       " '354b4fd9': 'Sure! Here are 3 questions that the user might ask based on the legal document record:\\n\\n[\"How does the court\\'s approach to rolled-up offers affect the weight given to an offer in the exercise of a discretion?\"], [\"What is the difference between a rolled-up offer and a Calderbank letter?\"], [\"Can a refused rolled-up offer support a claim for indemnity costs in certain circumstances?\"]',\n",
       " '1a6f3b8c': '\\nSure! Here are three questions that a user who has accessed the legal document assistant might ask based on the provided record:\\n\\n[\"What is the significance of Hill J\\'s statement in John S Hayes & Associates Pty Ltd v Kimberly-Clark Australia Pty Ltd (1994) 52 FCR 201 that \\'care must be taken not to circumscribe the discretion by reference to closed categories\\'?\", \"How does the principle of not fettering the discretion by transforming approaches and practices into quasi-statutory rules relate to the exercise of judicial discretion in legal proceedings?\", \"Can you provide examples of how the court has exercised its discretion in cases where the parties have attempted to circumscribe the discretion through reference to closed categories or otherwise?\"]',\n",
       " 'a74a432b': '\\nHere are three questions that the user might ask based on the legal document record:\\n\\n[\"What is the level of unreasonableness necessary to attract the discretion in a case like this?\", \"Was UWA\\'s refusal of Sirtex\\'s offer unreasonable given the circumstances at the time?\", \"Did Sirtex act reasonably in making its counter-offer, and if so, did it have any impact on UWA\\'s decision to refuse the initial offer?\"]',\n",
       " '4b96598f': '\\nSure, here are three questions this user might ask based on the legal document record:\\n\\n[\"What is the recent decision of the High Court in Australian Broadcasting Corporation v O\\'Neill [2006] HCA 46?\"],\\n[\"Can you explain the general principles governing the grant of interlocutory injunctions in cases of defamation as formulated by Gleeson CJ and Crennan J?\"],\\n[\"How do these principles apply to the present case, and how does the court determine whether the plaintiff has shown a serious question to be tried, injury likely to be suffered, and balance of convenience in favor of granting an injunction?\"]',\n",
       " '2493916e': 'Sure! Here are 3 questions that a user who has access to the legal document assistant might ask based on the provided record:\\n\\n[\"What is the significance of Stone J\\'s statement in Hexal v Roche that the likelihood of irreparable harm was a separate element that had to be established by an applicant for an interlocutory injunction?\", \"How did Justice Weinberg use the passage from Mason ACJ\\'s judgment in Castlemaine Tooheys Ltd v South Australia to support the proposition that likelihood of irreparable harm is a separate element?\", \"What was the outcome of the hearing regarding costs for the parties in this matter?\"]',\n",
       " '36e09de2': '\\nSure, here are three questions that the user might ask based on the legal document record provided:\\n\\n[\"How does the passage from Castlemaine Tooheys Ltd v South Australia support the proposition that a separate element must be established by an applicant for an interlocutory injunction?\", \"What is the likelihood of irreparable harm regarded by Stone J in Hexal Australia Pty Ltd v Roche Therapeutics Inc?\", \"Can you provide additional examples or cases where the proposition that a separate element must be established has been applied in the context of interlocutory injunctions?\"]',\n",
       " 'cac98d86': '\\nSure, here are 3 questions that a user might ask based on the legal document record you provided:\\n\\n[\"What is the court\\'s approach to granting quia timet injunctions?\", \"How does the court determine whether an apprehended injury is sufficiently likely to occur to justify intervention?\", \"Are there any specific requirements or considerations that the court takes into account when evaluating a quia timet application?\"]',\n",
       " 'd128c173': 'Sure! Here are three questions that the user might ask based on the legal document record:\\n\\n[\"What is the usual position when a cheque is given in payment of a debt?\", \"How does the condition subsequent rule apply to payments made by cheque?\", \"Can you explain the reasoning behind the court\\'s decision in this case regarding the payment of the debt due to the Commonwealth?\"]',\n",
       " 'a0078885': '\\n[\"What is the legal definition of legal tender?\", \"Can a cheque be considered a form of legal tender?\", \"In what circumstances can a payment by cheque be considered sufficient?\"]',\n",
       " 'd9a53da9': 'Sure! Here are three questions that a user might ask based on the legal document record provided:\\n\\n[\"Question 1\": \"What does the record suggest about the Deputy Commissioner\\'s obligation to accept a cheque from the debtor?\", \"Question 2\": \"Can you provide more context for the statement \\'a refusal to accept the cheque would not have eliminated the debt in question\\'?\", \"Question 3\": \"What is the relevance of the case Australian Mid-Eastern Club Ltd v Yassim (1989) 1 ACSR 399 to the current situation?\"]',\n",
       " '07956cc6': \"\\nHere are three questions that the user might ask based on the provided legal document record:\\n\\nQuestion 1: Can a creditor's status as a creditor at the time when the winding up application is made be a sufficient reason for the court to exercise its jurisdiction and order the winding up of a company?\\n\\nQuestion 2: What is the impact of paying a debt after the filing of a winding up application on the discretion of the court to dismiss the application?\\n\\nQuestion 3: Can the acceptance of a bank cheque by the Deputy Commissioner be seen as extinguishing the debt then and there, or does it depend on the fulfillment of a condition subsequent?\",\n",
       " '88d68e4a': 'Sure! Here are three questions that the user might ask based on the legal document record provided:\\n\\n[\"What is the conclusion reached by Zeeman J in the case of Deputy Commissioner of Taxation v Guy Holdings Pty Ltd?\", \"How did Gyles J agree with Zeeman J\\'s conclusion in the same case?\", \"Can you provide an example of a situation where the Court would exercise its discretion to wind up a company under section 467 of the Corporations Act?\"]',\n",
       " '606c03f0': 'Sure! Here are 3 questions that a user who has accessed the legal document assistant might ask based on the provided record:\\n\\n[\"Question 1\": \"What is the significance of the phrase \\'date of presentation of the winding up petition\\' in the context of determining a creditor\\'s standing to apply for the winding up of a company?\", \"Question 2\": \"Can you provide examples of when a petitioning creditor might be paid off between the presentation of the petition and the making of an order?\", \"Question 3\": \"How does the Corporations Act define a \\'creditor\\' for the purposes of applying for the winding up of a company?\"]',\n",
       " '6fd56205': 'Sure! Here are three questions that a user who has access to the legal document assistant might ask based on the record provided:\\n\\n[\"What did the High Court decide in Appellant S395/2002 v Minister for Immigration and Multicultural Affairs; Appellant S396/2002 v Minister for Immigration and Multicultural Affairs [2003] HCA 71 ; (2003) 216 CLR 473?\", \"How did the Tribunal determine that the appellants were not in danger of persecution in Bangladesh?\", \"What was the basis for the Tribunal\\'s finding that the appellants had conducted themselves discreetly despite their homosexuality?\"]',\n",
       " '2e80a9cc': '\\nSure, here are 3 questions that a user who emulates a legal document assistant might ask based on the provided record:\\n\\n[\"What is the legal precedent established in Morales v Minister for Immigration and Multicultural Affairs?\", \"Can issue estoppel be founded in this case?\", \"Is there any relevance of the history of the proceedings from the decision of the delegate to the High Court?\"]',\n",
       " '3c96273a': 'Sure! Here are 3 questions that a user might ask based on the legal document record provided:\\n\\n[\"What is the basis for the court\\'s statement that there is nothing on which any issue estoppel can be founded after an order is set aside and remitted to the Tribunal for reconsideration?\", \"Can you explain the reasoning behind the court\\'s decision in Morales v Minister for Immigration and Multicultural Affairs [1998] FCA 334; (1998) 82 FCR 374?\", \"How does the case of Minister for Immigration and Multicultural Affairs v Wang (2003) 215 CLR 518 relate to the issue of estoppel in this context?\"]',\n",
       " '9f87aa04': '\\nSure! Here are 3 questions that a user might ask based on the legal document record provided:\\n\\n[\"What is the primary decision-maker\\'s function in determining credibility of witnesses?\",\"How does the lack of detailed reasons given by the primary decision-maker for not believing a particular witness affect the tribunal\\'s decision?\",\"Can you provide examples of how the tribunal might give reasons for its decision without necessarily rejecting individual pieces of evidence?\"]',\n",
       " 'c384c0f1': '\\nSure! Here are three questions that the user might ask based on the legal document record provided:\\n\\n[\"What is the definition of \\'perverse\\' in the context of decision making?\", \"Can you provide examples of how a decision can be considered perverse beyond power?\", \"In what cases might the failure to exercise a power be considered a serious failure in the decision-making process?\"]',\n",
       " '28766288': 'Sure! Here are three questions that the user might ask based on the legal document record provided:\\n\\n[\"What is the definition of \\'good faith\\' in the context of fact-finding in a legal proceeding?\", \"Can a finding of fact made by a tribunal or court be set aside if it was not made in good faith?\", \"What is the significance of the High Court\\'s remittal of the matter to the tribunal in the case of Waterford v Commonwealth?\"]',\n",
       " 'a0eae858': '\\nSure! Here are three questions that the user might ask based on the legal document record you provided:\\n\\n[\"What is the nature of the dispute between Elderslie Finance Corp Ltd and the Australian Securities Commission?\", \"What is the significance of the case in the context of corporate governance and regulatory compliance?\", \"How did the court resolve the dispute and what were the implications for future cases?\"]'}"
      ]
     },
     "execution_count": 9,
     "metadata": {},
     "output_type": "execute_result"
    }
   ],
   "source": [
    "results"
   ]
  },
  {
   "cell_type": "code",
   "execution_count": 13,
   "metadata": {},
   "outputs": [],
   "source": [
    "all_results = results"
   ]
  },
  {
   "cell_type": "code",
   "execution_count": 14,
   "metadata": {},
   "outputs": [
    {
     "ename": "FileNotFoundError",
     "evalue": "[Errno 2] No such file or directory: 'results.bin'",
     "output_type": "error",
     "traceback": [
      "\u001b[1;31m---------------------------------------------------------------------------\u001b[0m",
      "\u001b[1;31mFileNotFoundError\u001b[0m                         Traceback (most recent call last)",
      "Cell \u001b[1;32mIn[14], line 3\u001b[0m\n\u001b[0;32m      1\u001b[0m \u001b[38;5;28;01mimport\u001b[39;00m \u001b[38;5;21;01mpickle\u001b[39;00m\n\u001b[1;32m----> 3\u001b[0m \u001b[38;5;28;01mwith\u001b[39;00m \u001b[38;5;28;43mopen\u001b[39;49m\u001b[43m(\u001b[49m\u001b[38;5;124;43m'\u001b[39;49m\u001b[38;5;124;43mresults.bin\u001b[39;49m\u001b[38;5;124;43m'\u001b[39;49m\u001b[43m,\u001b[49m\u001b[43m \u001b[49m\u001b[38;5;124;43m'\u001b[39;49m\u001b[38;5;124;43mrb\u001b[39;49m\u001b[38;5;124;43m'\u001b[39;49m\u001b[43m)\u001b[49m \u001b[38;5;28;01mas\u001b[39;00m f_in:\n\u001b[0;32m      4\u001b[0m     all_results \u001b[38;5;241m=\u001b[39m pickle\u001b[38;5;241m.\u001b[39mload(f_in)\n",
      "File \u001b[1;32m~\\AppData\\Local\\Programs\\Python\\Python38\\lib\\site-packages\\IPython\\core\\interactiveshell.py:284\u001b[0m, in \u001b[0;36m_modified_open\u001b[1;34m(file, *args, **kwargs)\u001b[0m\n\u001b[0;32m    <a href='file:///c%3A/Users/Lenovo/AppData/Local/Programs/Python/Python38/lib/site-packages/IPython/core/interactiveshell.py?line=276'>277</a>\u001b[0m \u001b[39mif\u001b[39;00m file \u001b[39min\u001b[39;00m {\u001b[39m0\u001b[39m, \u001b[39m1\u001b[39m, \u001b[39m2\u001b[39m}:\n\u001b[0;32m    <a href='file:///c%3A/Users/Lenovo/AppData/Local/Programs/Python/Python38/lib/site-packages/IPython/core/interactiveshell.py?line=277'>278</a>\u001b[0m     \u001b[39mraise\u001b[39;00m \u001b[39mValueError\u001b[39;00m(\n\u001b[0;32m    <a href='file:///c%3A/Users/Lenovo/AppData/Local/Programs/Python/Python38/lib/site-packages/IPython/core/interactiveshell.py?line=278'>279</a>\u001b[0m         \u001b[39mf\u001b[39m\u001b[39m\"\u001b[39m\u001b[39mIPython won\u001b[39m\u001b[39m'\u001b[39m\u001b[39mt let you open fd=\u001b[39m\u001b[39m{\u001b[39;00mfile\u001b[39m}\u001b[39;00m\u001b[39m by default \u001b[39m\u001b[39m\"\u001b[39m\n\u001b[0;32m    <a href='file:///c%3A/Users/Lenovo/AppData/Local/Programs/Python/Python38/lib/site-packages/IPython/core/interactiveshell.py?line=279'>280</a>\u001b[0m         \u001b[39m\"\u001b[39m\u001b[39mas it is likely to crash IPython. If you know what you are doing, \u001b[39m\u001b[39m\"\u001b[39m\n\u001b[0;32m    <a href='file:///c%3A/Users/Lenovo/AppData/Local/Programs/Python/Python38/lib/site-packages/IPython/core/interactiveshell.py?line=280'>281</a>\u001b[0m         \u001b[39m\"\u001b[39m\u001b[39myou can use builtins\u001b[39m\u001b[39m'\u001b[39m\u001b[39m open.\u001b[39m\u001b[39m\"\u001b[39m\n\u001b[0;32m    <a href='file:///c%3A/Users/Lenovo/AppData/Local/Programs/Python/Python38/lib/site-packages/IPython/core/interactiveshell.py?line=281'>282</a>\u001b[0m     )\n\u001b[1;32m--> <a href='file:///c%3A/Users/Lenovo/AppData/Local/Programs/Python/Python38/lib/site-packages/IPython/core/interactiveshell.py?line=283'>284</a>\u001b[0m \u001b[39mreturn\u001b[39;00m io_open(file, \u001b[39m*\u001b[39;49margs, \u001b[39m*\u001b[39;49m\u001b[39m*\u001b[39;49mkwargs)\n",
      "\u001b[1;31mFileNotFoundError\u001b[0m: [Errno 2] No such file or directory: 'results.bin'"
     ]
    }
   ],
   "source": [
    "import pickle\n",
    "\n",
    "with open('results.bin', 'rb') as f_in:\n",
    "    all_results = pickle.load(f_in)"
   ]
  },
  {
   "cell_type": "code",
   "execution_count": 10,
   "metadata": {},
   "outputs": [],
   "source": [
    "import pandas as pd"
   ]
  },
  {
   "cell_type": "code",
   "execution_count": 15,
   "metadata": {},
   "outputs": [],
   "source": [
    "doc_index = {d['doc_id']: d for d in data}"
   ]
  },
  {
   "cell_type": "code",
   "execution_count": 31,
   "metadata": {},
   "outputs": [
    {
     "name": "stdout",
     "output_type": "stream",
     "text": [
      "EOL while scanning string literal (<unknown>, line 1)\n",
      "EOL while scanning string literal (<unknown>, line 1)\n",
      "EOL while scanning string literal (<unknown>, line 1)\n",
      "invalid syntax (<unknown>, line 1)\n",
      "unexpected EOF while parsing (<unknown>, line 0)\n",
      "invalid syntax (<unknown>, line 1)\n",
      "EOL while scanning string literal (<unknown>, line 1)\n",
      "EOL while scanning string literal (<unknown>, line 1)\n"
     ]
    }
   ],
   "source": [
    "import ast\n",
    "\n",
    "final_results = []\n",
    "\n",
    "for doc_id, questions in all_results.items():\n",
    "        # Extract the list portion from the input string\n",
    "        try:\n",
    "            start_index = questions.find(\"[\")\n",
    "            end_index = questions.find(\"]\") + 1\n",
    "            list_string = questions[start_index:end_index]\n",
    "            questions_list = ast.literal_eval(list_string)\n",
    "            for q in questions_list:\n",
    "                final_results.append((q,doc_id))\n",
    "        except Exception as e:\n",
    "            print(e)\n",
    "            continue"
   ]
  },
  {
   "cell_type": "code",
   "execution_count": 32,
   "metadata": {},
   "outputs": [],
   "source": [
    "df = pd.DataFrame(final_results, columns=['question', 'document'])\n",
    "df.to_csv('ground-truth-data.csv', index=False)"
   ]
  }
 ],
 "metadata": {
  "interpreter": {
   "hash": "9ce43836c8d3287a06e199a1efd6974587c1d8c7cdf961feda0708cd09e2869c"
  },
  "kernelspec": {
   "display_name": "Python 3.8.10 64-bit",
   "language": "python",
   "name": "python3"
  },
  "language_info": {
   "codemirror_mode": {
    "name": "ipython",
    "version": 3
   },
   "file_extension": ".py",
   "mimetype": "text/x-python",
   "name": "python",
   "nbconvert_exporter": "python",
   "pygments_lexer": "ipython3",
   "version": "3.8.10"
  },
  "orig_nbformat": 4
 },
 "nbformat": 4,
 "nbformat_minor": 2
}
