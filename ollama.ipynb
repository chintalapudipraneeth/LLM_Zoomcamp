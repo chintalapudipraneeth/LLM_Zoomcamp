{
 "cells": [
  {
   "cell_type": "code",
   "execution_count": 2,
   "metadata": {},
   "outputs": [
    {
     "name": "stdout",
     "output_type": "stream",
     "text": [
      " The sky appears blue to us due to a phenomenon called Rayleigh scattering. When sunlight reaches Earth's atmosphere, it interacts with molecules like nitrogen and oxygen in the air. Sunlight is composed of various colors that correspond to different wavelengths of light within the visible spectrum.\n",
      "\n",
      "Blue light has shorter wavelengths compared to other colors in white light (like red, orange, yellow, etc.), so it gets scattered more efficiently by the small gas molecules present in Earth's atmosphere. This scattering causes blue light to be dispersed uniformly across the sky from all directions. As a result, our eyes perceive the sky as predominantly blue during daylight hours.\n",
      "\n",
      "It is important to note that the sky can take on different colors under various atmospheric conditions or at sunrise and sunset when reds and oranges are more prominent due to longer wavelength light being scattered less, creating a vivid display of colors known as \"twilight.\"\n"
     ]
    }
   ],
   "source": [
    "from langchain_community.llms import Ollama\n",
    "ollama = Ollama(\n",
    "    base_url='http://localhost:11434',\n",
    "    model=\"phi3\"\n",
    ")\n",
    "print(ollama.invoke(\"why is the sky blue\"))"
   ]
  },
  {
   "cell_type": "code",
   "execution_count": 10,
   "metadata": {},
   "outputs": [
    {
     "name": "stdout",
     "output_type": "stream",
     "text": [
      "Prime Minister of India is Narendra Modi. He assumed office on May 1, 2016 and is the current Prime Minister of India.\n"
     ]
    }
   ],
   "source": [
    "import ollama\n",
    "response = ollama.chat(model='gemma:2b', messages=[\n",
    "  {\n",
    "    'role': 'user',\n",
    "    'content': 'who is pm of India',\n",
    "  },\n",
    "])\n",
    "print(response['message']['content'])"
   ]
  },
  {
   "cell_type": "code",
   "execution_count": 8,
   "metadata": {},
   "outputs": [
    {
     "data": {
      "text/plain": [
       "{'model': 'phi3',\n",
       " 'created_at': '2024-06-19T11:16:48.766209313Z',\n",
       " 'response': ' As an AI, I don\\'t have real-time capabilities but you can easily check the current date on your computer or smartphone. To find out today\\'s date, look at the calendar application in your operating system (like Windows Taskbar for Windows users) or use a search engine query such as \"date and time\" to get displayed locally according to your device settings.',\n",
       " 'done': True,\n",
       " 'done_reason': 'stop',\n",
       " 'context': [32010,\n",
       "  1724,\n",
       "  338,\n",
       "  278,\n",
       "  2635,\n",
       "  9826,\n",
       "  32007,\n",
       "  32001,\n",
       "  1094,\n",
       "  385,\n",
       "  319,\n",
       "  29902,\n",
       "  29892,\n",
       "  306,\n",
       "  1016,\n",
       "  29915,\n",
       "  29873,\n",
       "  505,\n",
       "  1855,\n",
       "  29899,\n",
       "  2230,\n",
       "  27108,\n",
       "  541,\n",
       "  366,\n",
       "  508,\n",
       "  5948,\n",
       "  1423,\n",
       "  278,\n",
       "  1857,\n",
       "  2635,\n",
       "  373,\n",
       "  596,\n",
       "  6601,\n",
       "  470,\n",
       "  15040,\n",
       "  6710,\n",
       "  29889,\n",
       "  1763,\n",
       "  1284,\n",
       "  714,\n",
       "  9826,\n",
       "  29915,\n",
       "  29879,\n",
       "  2635,\n",
       "  29892,\n",
       "  1106,\n",
       "  472,\n",
       "  278,\n",
       "  17684,\n",
       "  2280,\n",
       "  297,\n",
       "  596,\n",
       "  13598,\n",
       "  1788,\n",
       "  313,\n",
       "  4561,\n",
       "  3852,\n",
       "  9330,\n",
       "  1646,\n",
       "  363,\n",
       "  3852,\n",
       "  4160,\n",
       "  29897,\n",
       "  470,\n",
       "  671,\n",
       "  263,\n",
       "  2740,\n",
       "  6012,\n",
       "  2346,\n",
       "  1316,\n",
       "  408,\n",
       "  376,\n",
       "  1256,\n",
       "  322,\n",
       "  931,\n",
       "  29908,\n",
       "  304,\n",
       "  679,\n",
       "  8833,\n",
       "  12430,\n",
       "  5034,\n",
       "  304,\n",
       "  596,\n",
       "  4742,\n",
       "  6055,\n",
       "  29889,\n",
       "  32007],\n",
       " 'total_duration': 20563519969,\n",
       " 'load_duration': 1749276701,\n",
       " 'prompt_eval_count': 9,\n",
       " 'prompt_eval_duration': 1739829000,\n",
       " 'eval_count': 79,\n",
       " 'eval_duration': 16985172000}"
      ]
     },
     "execution_count": 8,
     "metadata": {},
     "output_type": "execute_result"
    }
   ],
   "source": [
    "ollama.generate(model='phi3',prompt=\"What is the date today\")"
   ]
  },
  {
   "cell_type": "code",
   "execution_count": 12,
   "metadata": {},
   "outputs": [
    {
     "data": {
      "text/plain": [
       "{'status': 'success'}"
      ]
     },
     "execution_count": 12,
     "metadata": {},
     "output_type": "execute_result"
    }
   ],
   "source": [
    "modelfile='''\n",
    "FROM phi3\n",
    "PARAMETER temperature 0.5\n",
    "SYSTEM You are my chat assistant today.Answer carefully.\n",
    "'''\n",
    "ollama.create(model='example', modelfile=modelfile)"
   ]
  },
  {
   "cell_type": "code",
   "execution_count": null,
   "metadata": {},
   "outputs": [],
   "source": []
  }
 ],
 "metadata": {
  "kernelspec": {
   "display_name": "Python 3 (ipykernel)",
   "language": "python",
   "name": "python3"
  },
  "language_info": {
   "codemirror_mode": {
    "name": "ipython",
    "version": 3
   },
   "file_extension": ".py",
   "mimetype": "text/x-python",
   "name": "python",
   "nbconvert_exporter": "python",
   "pygments_lexer": "ipython3",
   "version": "3.10.13"
  }
 },
 "nbformat": 4,
 "nbformat_minor": 2
}
